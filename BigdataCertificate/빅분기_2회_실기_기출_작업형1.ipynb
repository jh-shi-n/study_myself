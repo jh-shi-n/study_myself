{
 "cells": [
  {
   "cell_type": "code",
   "execution_count": 1,
   "id": "b459837b",
   "metadata": {},
   "outputs": [],
   "source": [
    "import pandas as pd\n",
    "import numpy as np\n",
    "from sklearn import datasets"
   ]
  },
  {
   "cell_type": "code",
   "execution_count": 38,
   "id": "24198e04",
   "metadata": {},
   "outputs": [],
   "source": [
    "df_ = pd.read_csv(\"c:/python/boston_house.csv\")\n",
    "\n",
    "df = df_.iloc[:,1:]"
   ]
  },
  {
   "cell_type": "markdown",
   "id": "c33acd8f",
   "metadata": {},
   "source": [
    "# 작업형 1 - 데이터 대치"
   ]
  },
  {
   "cell_type": "code",
   "execution_count": 56,
   "id": "d3c6e8fd",
   "metadata": {},
   "outputs": [
    {
     "name": "stdout",
     "output_type": "stream",
     "text": [
      "5.759386624999999\n"
     ]
    }
   ],
   "source": [
    "# df_ = pd.read_csv(\"c:/python/boston_house.csv\")\n",
    "\n",
    "sort_df = df.sort_values(by='CRIM', ascending=False)\n",
    "\n",
    "#값 치환\n",
    "sort_df['CRIM'].iloc[0:10] = sort_df['CRIM'].iloc[9]\n",
    "\n",
    "#평균 (2개중 하나로 풀이)\n",
    "#sort_df.loc[sort_df['AGE'] >= 80, 'CRIM'].mean()\n",
    "mean_value = sort_df[sort_df['AGE'] >= 80]['CRIM'].mean()\n",
    "\n",
    "print(mean_value)"
   ]
  },
  {
   "cell_type": "markdown",
   "id": "a3f8d9a5",
   "metadata": {},
   "source": [
    "# 작업형 1 - 이상치 수정"
   ]
  },
  {
   "cell_type": "code",
   "execution_count": null,
   "id": "c52c092d",
   "metadata": {},
   "outputs": [],
   "source": [
    "mean_value = sort_df[sort_df['AGE'] >= 80]['CRIM'].mean()\n",
    "std_value = sort_df[sort_df['AGE'] >= 80]['CRIM'].std()\n",
    "\n",
    "# 1분위수 , 4분위수\n",
    "lower = mean_value - (1.5 * std_value)\n",
    "upper = mean_value + (1.5 * std_value)\n",
    "\n",
    "# 이상치\n",
    "outlier = sort_df[(data > lower) | (data < upper)]\n",
    "\n",
    "print(sum(outlier))"
   ]
  }
 ],
 "metadata": {
  "kernelspec": {
   "display_name": "Python [conda env:tf115] *",
   "language": "python",
   "name": "conda-env-tf115-py"
  },
  "language_info": {
   "codemirror_mode": {
    "name": "ipython",
    "version": 3
   },
   "file_extension": ".py",
   "mimetype": "text/x-python",
   "name": "python",
   "nbconvert_exporter": "python",
   "pygments_lexer": "ipython3",
   "version": "3.7.11"
  }
 },
 "nbformat": 4,
 "nbformat_minor": 5
}
