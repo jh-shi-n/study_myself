{
 "cells": [
  {
   "cell_type": "markdown",
   "metadata": {},
   "source": [
    "# Pytorch 기본 공부 (1)\n",
    "- GPU를 사용하여 수치연산 가속화 가능"
   ]
  },
  {
   "cell_type": "code",
   "execution_count": 1,
   "metadata": {},
   "outputs": [],
   "source": [
    "## 패키지 기본구성\n",
    "import torch #기본 모듈\n",
    "# import torchvision #이미지를 다루기 위한 모듈\n",
    "#import torchvision.transforms as transforms #이미지를 변형하기 위한 내장함수"
   ]
  },
  {
   "cell_type": "code",
   "execution_count": 8,
   "metadata": {},
   "outputs": [],
   "source": [
    "import numpy as np\n",
    "import math\n",
    "\n",
    "# Torch 설정 (1)\n",
    "dtype = torch.float\n",
    "device = torch.device('cuda:0') # GPU 사용 설정\n",
    "\n",
    "\n",
    "# 무작위로 입력과 출력 데이터를 생성합니다\n",
    "x = torch.linspace(-math.pi, math.pi, 2000, device=device, dtype=dtype)\n",
    "y = torch.sin(x)\n"
   ]
  },
  {
   "cell_type": "code",
   "execution_count": 9,
   "metadata": {},
   "outputs": [],
   "source": [
    "\n",
    "# Torch 설정 (2) - 무작위 입력과 출력 데이터\n",
    "a = torch.randn((), device=device, dtype=dtype)\n",
    "b = torch.randn((), device=device, dtype=dtype)\n",
    "c = torch.randn((), device=device, dtype=dtype)\n",
    "d = torch.randn((), device=device, dtype=dtype)"
   ]
  },
  {
   "cell_type": "markdown",
   "metadata": {},
   "source": [
    "### Pytorch의 핵심개념인 Tensor\n",
    "-  n-차원 배열\n",
    "- 연산 그래프와 변화도 추척 뿐만 아니라, 과학적 연산을 위한 일반적인 도구로도 활용가능"
   ]
  },
  {
   "cell_type": "code",
   "execution_count": 12,
   "metadata": {},
   "outputs": [
    {
     "name": "stdout",
     "output_type": "stream",
     "text": [
      "tensor(-5.4783e-07, device='cuda:0')\n"
     ]
    }
   ],
   "source": [
    "print(a)\n",
    "# tensor(-5.4783e-07, device='cuda:0')"
   ]
  },
  {
   "cell_type": "markdown",
   "metadata": {},
   "source": [
    "### 간단한 순전파 단계"
   ]
  },
  {
   "cell_type": "code",
   "execution_count": 10,
   "metadata": {},
   "outputs": [
    {
     "name": "stdout",
     "output_type": "stream",
     "text": [
      "99 599.0567016601562\n",
      "199 399.1126708984375\n",
      "299 266.900146484375\n",
      "399 179.4748077392578\n",
      "499 121.66466522216797\n",
      "599 83.43760681152344\n",
      "699 58.1600227355957\n",
      "799 41.44525909423828\n",
      "899 30.39241600036621\n",
      "999 23.083736419677734\n",
      "1099 18.25092315673828\n",
      "1199 15.055209159851074\n",
      "1299 12.942055702209473\n",
      "1399 11.544775009155273\n",
      "1499 10.620796203613281\n",
      "1599 10.00982666015625\n",
      "1699 9.605826377868652\n",
      "1799 9.338665008544922\n",
      "1899 9.162009239196777\n",
      "1999 9.045196533203125\n",
      "Result: y = -5.47831405128818e-07 + 0.8420616984367371 x + 8.942882345763792e-08 x^2 + -0.09124240279197693 x^3\n"
     ]
    }
   ],
   "source": [
    "learning_rate = 1e-6\n",
    "for t in range(2000):\n",
    "    # 순전파 단계: 예측값 y를 계산합니다\n",
    "    y_pred = a + b * x + c * x ** 2 + d * x ** 3\n",
    "\n",
    "    # 손실(loss)을 계산하고 출력합니다\n",
    "    loss = (y_pred - y).pow(2).sum().item()\n",
    "    if t % 100 == 99:\n",
    "        print(t, loss)\n",
    "\n",
    "    # 손실에 따른 a, b, c, d의 변화도(gradient)를 계산하고 역전파합니다.\n",
    "    grad_y_pred = 2.0 * (y_pred - y)\n",
    "    grad_a = grad_y_pred.sum()\n",
    "    grad_b = (grad_y_pred * x).sum()\n",
    "    grad_c = (grad_y_pred * x ** 2).sum()\n",
    "    grad_d = (grad_y_pred * x ** 3).sum()\n",
    "\n",
    "    # 가중치를 갱신합니다.\n",
    "    a -= learning_rate * grad_a\n",
    "    b -= learning_rate * grad_b\n",
    "    c -= learning_rate * grad_c\n",
    "    d -= learning_rate * grad_d\n",
    "\n",
    "\n",
    "print(f'Result: y = {a.item()} + {b.item()} x + {c.item()} x^2 + {d.item()} x^3')"
   ]
  }
 ],
 "metadata": {
  "interpreter": {
   "hash": "03f478d4db0ab5b60bff01d60ac3aaac5029bb948a91aa05f35c019e92888289"
  },
  "kernelspec": {
   "display_name": "Python 3.7.11 64-bit ('pytorch': conda)",
   "language": "python",
   "name": "python3"
  },
  "language_info": {
   "codemirror_mode": {
    "name": "ipython",
    "version": 3
   },
   "file_extension": ".py",
   "mimetype": "text/x-python",
   "name": "python",
   "nbconvert_exporter": "python",
   "pygments_lexer": "ipython3",
   "version": "3.7.0"
  },
  "orig_nbformat": 4
 },
 "nbformat": 4,
 "nbformat_minor": 2
}
