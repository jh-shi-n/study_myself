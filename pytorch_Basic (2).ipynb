{
 "cells": [
  {
   "cell_type": "markdown",
   "metadata": {},
   "source": [
    "# Pytorch_Basic (3)        \n",
    "\n",
    "- Autograd\n",
    "   - torch.Tensor\n",
    "   - 만약 **.requires_grad** 속성을 True로 설정하면, 그 tensor에서 이뤄진 모든 연산들을 추적(track) 한다.\n"
   ]
  },
  {
   "cell_type": "code",
   "execution_count": 2,
   "metadata": {},
   "outputs": [],
   "source": [
    "import torch\n",
    "import torch.nn as no\n",
    "import torch.nn.functional as F"
   ]
  },
  {
   "cell_type": "code",
   "execution_count": 14,
   "metadata": {},
   "outputs": [
    {
     "name": "stdout",
     "output_type": "stream",
     "text": [
      "tensor([[1., 1.],\n",
      "        [1., 1.]], requires_grad=True)\n",
      "tensor([[3., 3.],\n",
      "        [3., 3.]], grad_fn=<AddBackward0>)\n",
      "tensor([[27., 27.],\n",
      "        [27., 27.]])\n"
     ]
    }
   ],
   "source": [
    "# requires_grad ,  기존 Tensor의 값을 바꿔버림(in-place)\n",
    "# 활용하기 위해서는 함수 내 requires_grad를 True로 설정한다.\n",
    "\n",
    "x = torch.ones(2, 2, requires_grad=True)  # 2x2 행렬 선언\n",
    "print(x) # Tensor로 계산한 Function을 참조\n",
    "\n",
    "x_ = torch.ones(2, 2, requires_grad=False) # grad = False인 경우,,,\n",
    "\n",
    "y = x + 2\n",
    "print(y) # grad_fn=<AddBackward0> ~ 연산의 결과로 생성, 생성된 함수를 참조하는 속성\n",
    "\n",
    "with torch.no_grad() : # no_grad 옵션으로 추적 종료\n",
    "    z = y * y * 3\n",
    "    print(z)"
   ]
  }
 ],
 "metadata": {
  "interpreter": {
   "hash": "1f24b2f6551b049df64cb25183e90251dea2c63deab47566e118362740cff14f"
  },
  "kernelspec": {
   "display_name": "Python 3.7.11 64-bit ('torch': conda)",
   "language": "python",
   "name": "python3"
  },
  "language_info": {
   "codemirror_mode": {
    "name": "ipython",
    "version": 3
   },
   "file_extension": ".py",
   "mimetype": "text/x-python",
   "name": "python",
   "nbconvert_exporter": "python",
   "pygments_lexer": "ipython3",
   "version": "3.7.11"
  },
  "orig_nbformat": 4
 },
 "nbformat": 4,
 "nbformat_minor": 2
}
