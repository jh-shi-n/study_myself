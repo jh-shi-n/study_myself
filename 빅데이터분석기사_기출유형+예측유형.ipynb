{
 "cells": [
  {
   "cell_type": "markdown",
   "id": "da900a3b",
   "metadata": {},
   "source": [
    "# Boston_House_dataset"
   ]
  },
  {
   "cell_type": "code",
   "execution_count": 4,
   "id": "b459837b",
   "metadata": {},
   "outputs": [],
   "source": [
    "import pandas as pd\n",
    "import numpy as np\n",
    "from sklearn import datasets"
   ]
  },
  {
   "cell_type": "code",
   "execution_count": 2,
   "id": "24198e04",
   "metadata": {},
   "outputs": [],
   "source": [
    "df_ = pd.read_csv(\"c:/python/boston_house.csv\")\n",
    "df = df_.iloc[:,1:] #index 행 삭제"
   ]
  },
  {
   "cell_type": "markdown",
   "id": "c33acd8f",
   "metadata": {},
   "source": [
    "# 작업형 1 - 데이터 대치"
   ]
  },
  {
   "cell_type": "code",
   "execution_count": 3,
   "id": "d3c6e8fd",
   "metadata": {},
   "outputs": [
    {
     "name": "stdout",
     "output_type": "stream",
     "text": [
      "5.759386624999999\n"
     ]
    }
   ],
   "source": [
    "# df_ = pd.read_csv(\"c:/python/boston_house.csv\")\n",
    "\n",
    "sort_df = df.sort_values(by='CRIM', ascending=False)\n",
    "\n",
    "#값 치환\n",
    "sort_df['CRIM'].iloc[0:10] = sort_df['CRIM'].iloc[9]\n",
    "\n",
    "#평균 (2개중 하나로 풀이)\n",
    "#sort_df.loc[sort_df['AGE'] >= 80, 'CRIM'].mean()\n",
    "mean_value = sort_df[sort_df['AGE'] >= 80]['CRIM'].mean()\n",
    "\n",
    "print(mean_value)"
   ]
  },
  {
   "cell_type": "markdown",
   "id": "a3f8d9a5",
   "metadata": {},
   "source": [
    "# 작업형 1 - 이상치 확인 후 합계"
   ]
  },
  {
   "cell_type": "code",
   "execution_count": 27,
   "id": "c52c092d",
   "metadata": {},
   "outputs": [
    {
     "name": "stdout",
     "output_type": "stream",
     "text": [
      "380.602\n"
     ]
    }
   ],
   "source": [
    "sort_df = df['RM'] # 임의의 데이터를 활용 부여\n",
    "\n",
    "mean_value = sort_df.mean()\n",
    "std_value = sort_df.std()\n",
    "\n",
    "# 1분위수 , 4분위수\n",
    "lower = mean_value - (1.5 * std_value)\n",
    "upper = mean_value + (1.5 * std_value)\n",
    "\n",
    "print(sort_df[sort_df<lower].sum() + sort_df[sort_df>upper].sum())"
   ]
  },
  {
   "cell_type": "markdown",
   "id": "8e25ba71",
   "metadata": {},
   "source": [
    "# 작업형 1 - 결측치 치환"
   ]
  },
  {
   "cell_type": "code",
   "execution_count": 38,
   "id": "37b93de0",
   "metadata": {},
   "outputs": [
    {
     "name": "stdout",
     "output_type": "stream",
     "text": [
      "19.453893291430727\n",
      "16.122908466726415\n"
     ]
    }
   ],
   "source": [
    "dt = pd.read_csv(\"./basic1.csv\")\n",
    "\n",
    "# 기존 확인\n",
    "std = dt['f1'].std()\n",
    "mean = dt['f1'].mean()\n",
    "print(std)\n",
    "\n",
    "# 결측치 보간\n",
    "dt_sort = dt['f1'].fillna(mean)\n",
    "print(dt_sort.std())"
   ]
  },
  {
   "cell_type": "markdown",
   "id": "2e8a7f51",
   "metadata": {},
   "source": [
    "# 임의 데이터 활용\n",
    "- 작업형 1 - Scaler 사용"
   ]
  },
  {
   "cell_type": "code",
   "execution_count": 5,
   "id": "3c041d15",
   "metadata": {},
   "outputs": [
    {
     "name": "stdout",
     "output_type": "stream",
     "text": [
      "['Binarizer', 'FunctionTransformer', 'KBinsDiscretizer', 'KernelCenterer', 'LabelBinarizer', 'LabelEncoder', 'MultiLabelBinarizer', 'MinMaxScaler', 'MaxAbsScaler', 'QuantileTransformer', 'Normalizer', 'OneHotEncoder', 'OrdinalEncoder', 'PowerTransformer', 'RobustScaler', 'SplineTransformer', 'StandardScaler', 'add_dummy_feature', 'PolynomialFeatures', 'binarize', 'normalize', 'scale', 'robust_scale', 'maxabs_scale', 'minmax_scale', 'label_binarize', 'quantile_transform', 'power_transform']\n"
     ]
    }
   ],
   "source": [
    "# 패키지 help 관련 ~ .__all__\n",
    "import sklearn.preprocessing\n",
    "print(sklearn.preprocessing.__all__)"
   ]
  },
  {
   "cell_type": "code",
   "execution_count": 7,
   "id": "3ef0939c",
   "metadata": {},
   "outputs": [],
   "source": [
    "import pandas as pd\n",
    "import numpy as np\n",
    "from sklearn.preprocessing import StandardScaler, MinMaxScaler\n",
    "\n",
    "dt = pd.read_csv(\"./basic1.csv\")"
   ]
  },
  {
   "cell_type": "code",
   "execution_count": 49,
   "id": "5b996b08",
   "metadata": {},
   "outputs": [],
   "source": [
    "stand_scaler = StandardScaler()\n",
    "minmax = MinMaxScaler()\n",
    "\n",
    "mm_scale = minmax.fit_transform(dt[['f5']])\n",
    "std_scale = stand_scaler.fit_transform(dt[['f5']])\n",
    "\n",
    "\n",
    "# MinMaxScaler ~ 특정 조건 이상인 데이터 갯수 출력\n",
    "print(len(mm_scale[mm_scale > 0.80]))"
   ]
  },
  {
   "cell_type": "markdown",
   "id": "0ce03936",
   "metadata": {},
   "source": [
    "# 작업형2\n",
    "## E-Commerce Dataset (분류)\n"
   ]
  },
  {
   "cell_type": "code",
   "execution_count": 28,
   "id": "1c61778a",
   "metadata": {},
   "outputs": [],
   "source": [
    "import pandas as pd\n",
    "from sklearn.model_selection import train_test_split\n",
    "from sklearn.metrics import r2_score\n",
    "from sklearn.linear_model import LogisticRegression\n",
    "from sklearn.ensemble import RandomForestClassifier, GradientBoostingClassifier, AdaBoostClassifier\n",
    "from sklearn.tree import DecisionTreeClassifier\n",
    "from sklearn.preprocessing import StandardScaler\n",
    "# import xgboost as XGB"
   ]
  },
  {
   "cell_type": "code",
   "execution_count": 6,
   "id": "357b66a7",
   "metadata": {},
   "outputs": [],
   "source": [
    "dt = pd.read_csv(\"C:/python/data_zip/ecommerce.csv\")\n",
    "\n",
    "# 데이터치환\n",
    "mos = pd.get_dummies(dt['Mode_of_Shipment'])\n",
    "dt['Gender'].replace([\"M\",\"F\"], ['0','1'], inplace=True)\n",
    "\n",
    "# 데이터 임의의 이상치 설정 후 제거 (평균 +- (1.5*표준편차))\n",
    "lower = dt['Weight_in_gms'].mean() - (1.5 * dt['Weight_in_gms'].std())\n",
    "upper = dt['Weight_in_gms'].mean() + (1.5 * dt['Weight_in_gms'].std())\n",
    "\n",
    "dt[(dt['Weight_in_gms'] > lower) & (dt['Weight_in_gms'] < upper)]"
   ]
  },
  {
   "cell_type": "markdown",
   "id": "b4176c42",
   "metadata": {},
   "source": [
    "## One-hot Encoding 활용 + Scaler 추가"
   ]
  },
  {
   "cell_type": "code",
   "execution_count": 31,
   "id": "a02971af",
   "metadata": {},
   "outputs": [
    {
     "name": "stdout",
     "output_type": "stream",
     "text": [
      "RandomForest ROC_AUC : 0.750172041037522\n",
      "Adaboost ROC_AUC : 0.7336527561929995\n",
      "GradientBoosting ROC_AUC : 0.746258585325664\n",
      "DecisionTree ROC_AUC : 0.6247369205801224\n"
     ]
    }
   ],
   "source": [
    "dt_crop = dt[(dt['Weight_in_gms'] > lower) & (dt['Weight_in_gms'] < upper)]\n",
    "\n",
    "crop = dt_crop[['Customer_care_calls', 'Customer_rating', 'Cost_of_the_Product',\n",
    "                'Discount_offered', 'Weight_in_gms']]\n",
    "\n",
    "crop_all = pd.concat([mos, crop, dt['Reached.on.Time_Y.N']], axis=1).dropna()\n",
    "\n",
    "scaler = StandardScaler()\n",
    "crop_all['Cost_of_the_Product'] = scaler.fit_transform(crop_all[['Cost_of_the_Product']])\n",
    "crop_all['Weight_in_gms'] = scaler.fit_transform(crop_all[['Weight_in_gms']])\n",
    "\n",
    "# Train, Test 데이터 분할\n",
    "train, test = train_test_split(crop_all, test_size=0.2, random_state=23)\n",
    "\n",
    "# X,y 설정\n",
    "x_train, y_train = train.iloc[:,0:8], train.iloc[:,8]\n",
    "x_test, y_test = test.iloc[:,0:8], test.iloc[:,8]\n",
    "\n",
    "# 모델(분류기)\n",
    "rf = RandomForestClassifier(random_state=23)\n",
    "ada = AdaBoostClassifier(random_state=23)\n",
    "gbm = GradientBoostingClassifier(random_state=23)\n",
    "dtt = DecisionTreeClassifier(random_state=23)\n",
    "\n",
    "#학습\n",
    "rf.fit(x_train, y_train)\n",
    "ada.fit(x_train, y_train)\n",
    "gbm.fit(x_train, y_train)\n",
    "dtt.fit(x_train, y_train)\n",
    "\n",
    "#예측 (분류기>> predict_proba)\n",
    "y_pred = rf.predict_proba(x_test)[:,1]\n",
    "y_pred_ = ada.predict_proba(x_test)[:,1]\n",
    "y_pred__ = gbm.predict_proba(x_test)[:,1]\n",
    "y_pred___ = dtt.predict_proba(x_test)[:,1]\n",
    "\n",
    "from sklearn.metrics import roc_auc_score\n",
    "print(\"RandomForest ROC_AUC : {}\".format(roc_auc_score(y_test, y_pred)))\n",
    "print(\"Adaboost ROC_AUC : {}\".format(roc_auc_score(y_test, y_pred_)))\n",
    "print(\"GradientBoosting ROC_AUC : {}\".format(roc_auc_score(y_test, y_pred__)))\n",
    "print(\"DecisionTree ROC_AUC : {}\".format(roc_auc_score(y_test, y_pred___)))"
   ]
  },
  {
   "cell_type": "markdown",
   "id": "37d1ab7e",
   "metadata": {},
   "source": [
    "## 숫자 데이터 Only 활용"
   ]
  },
  {
   "cell_type": "code",
   "execution_count": 26,
   "id": "7fe03e38",
   "metadata": {},
   "outputs": [
    {
     "name": "stdout",
     "output_type": "stream",
     "text": [
      "RandomForest ROC_AUC : 0.7358787577104264\n",
      "Adaboost ROC_AUC : 0.741801203562106\n",
      "GradientBoosting ROC_AUC : 0.7454135149282071\n",
      "DecisionTree ROC_AUC : 0.6188543238259454\n"
     ]
    }
   ],
   "source": [
    "# 숫자 데이터인 열의 이름 확인 후 데이터 Crop\n",
    "crop = dt[dt.describe(include='int64').columns].iloc[:,1:]\n",
    "\n",
    "train, test = train_test_split(crop, test_size=0.2, shuffle=True ,random_state=23)\n",
    "\n",
    "x_train, y_train = train.iloc[:,0:6], train.iloc[:,6]\n",
    "x_test, y_test = test.iloc[:,0:6], test.iloc[:,6]\n",
    "\n",
    "rf = RandomForestClassifier(random_state=23)\n",
    "ada = AdaBoostClassifier(random_state=23)\n",
    "gbm = GradientBoostingClassifier(random_state=23)\n",
    "dtt = DecisionTreeClassifier(random_state=23)\n",
    "\n",
    "rf.fit(x_train, y_train)\n",
    "ada.fit(x_train, y_train)\n",
    "gbm.fit(x_train, y_train)\n",
    "dtt.fit(x_train, y_train)\n",
    "\n",
    "rf_pred = rf.predict_proba(x_test)[:,1]\n",
    "ada_pred = ada.predict_proba(x_test)[:,1]\n",
    "gbm_pred = gbm.predict_proba(x_test)[:,1]\n",
    "dtt_pred = dtt.predict_proba(x_test)[:,1]\n",
    "\n",
    "from sklearn.metrics import roc_auc_score\n",
    "print(\"RandomForest ROC_AUC : {}\".format(roc_auc_score(y_test, rf_pred)))\n",
    "print(\"Adaboost ROC_AUC : {}\".format(roc_auc_score(y_test, ada_pred)))\n",
    "print(\"GradientBoosting ROC_AUC : {}\".format(roc_auc_score(y_test, gbm_pred)))\n",
    "print(\"DecisionTree ROC_AUC : {}\".format(roc_auc_score(y_test, dtt_pred)))"
   ]
  }
 ],
 "metadata": {
  "kernelspec": {
   "display_name": "Python [conda env:tf115] *",
   "language": "python",
   "name": "conda-env-tf115-py"
  },
  "language_info": {
   "codemirror_mode": {
    "name": "ipython",
    "version": 3
   },
   "file_extension": ".py",
   "mimetype": "text/x-python",
   "name": "python",
   "nbconvert_exporter": "python",
   "pygments_lexer": "ipython3",
   "version": "3.7.11"
  }
 },
 "nbformat": 4,
 "nbformat_minor": 5
}
